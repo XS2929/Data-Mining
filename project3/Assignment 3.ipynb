{
 "cells": [
  {
   "cell_type": "markdown",
   "metadata": {},
   "source": [
    "**Name**"
   ]
  },
  {
   "cell_type": "markdown",
   "metadata": {},
   "source": [
    "Bulbasaur"
   ]
  },
  {
   "cell_type": "markdown",
   "metadata": {},
   "source": [
    "# Association Analysis\n",
    "\n",
    "Association analysis is one of the most used machine learning algorithms to extract hidden relationships from large datasets. In this assignment we'll be implementing two of the most commonly used algorithms for association rule mining - Apriori and FPTree algorithm.\n",
    "\n",
    "The dataset (`large_retail.txt`) that we are going to use for this assignment has been adapted from the [Retail Market Basket Dataset](http://fimi.ua.ac.be/data/retail.pdf). The dataset contains transactions records supplied by an anonymous Belgian retail supermarket store. Each line in the file represents a separate transaction with the item ids separated by space. The dataset has 3000 transaction records and 99 different item ids.\n",
    "\n",
    "We also provide a smaller dataset (`small_retail.txt`) with 9 transactions and 5 different item ids along with the solutions. *You should first test your implementation on this dataset, before running it on the larger dataset.*\n",
    "\n",
    "The assignment will be **autograded**, we will use the `diff` command in linux to compare the output files. So please **check your answers** based on the given sample output files.\n",
    "\n",
    "Implementation Hint:\n",
    "\n",
    "- Use the `frozenset` data structure in Python (similar to `set` in functionality) to represent the itemsets because `frozenset` is a hashable data structure. You can just maintain a dictionary that maps from the itemset to its support count."
   ]
  },
  {
   "cell_type": "markdown",
   "metadata": {},
   "source": [
    "## Part 1 - Apriori Algorithm\n",
    "\n",
    "Apriori algorithm is a classical algorithm in data mining. It is used for mining frequent itemsets and relevant association rules. In this part, you'll be implementing this algorithm for generating the itemsets that occur more than the `min_sup` threshold. Based on these frequent itemsets you'll find association rules that have confidence above the `min_conf` threshold."
   ]
  },
  {
   "cell_type": "code",
   "execution_count": 1,
   "metadata": {
    "collapsed": true
   },
   "outputs": [],
   "source": [
    "# Standard imports (you can add additional headers if you wish)\n",
    "import numpy"
   ]
  },
  {
   "cell_type": "code",
   "execution_count": 2,
   "metadata": {
    "collapsed": true
   },
   "outputs": [],
   "source": [
    "# Reading the dataset from file\n",
    "def load_dataset(file_name):\n",
    "    with open(file_name, 'r') as f:\n",
    "        content = f.readlines()\n",
    "        data = [[int(x) for x in line.rstrip().split()] for line in content]\n",
    "    return data"
   ]
  },
  {
   "cell_type": "code",
   "execution_count": 3,
   "metadata": {
    "collapsed": true
   },
   "outputs": [],
   "source": [
    "large_dataset = load_dataset('large_retail.txt')\n",
    "small_dataset = load_dataset('small_retail.txt')"
   ]
  },
  {
   "cell_type": "markdown",
   "metadata": {},
   "source": [
    "**Q1.** Implement the function `createSet1` that takes input the entire dataset and returns the list of the set of size 1 itemsets. For example, for `small_retail.txt` it should return:\n",
    "~~~\n",
    "[frozenset({1}),\n",
    " frozenset({2}),\n",
    " frozenset({3}),\n",
    " frozenset({4}),\n",
    " frozenset({5})]\n",
    " ~~~\n",
    " Please **don't hardcode** the item ids, your code should support item ids that are non-sequential."
   ]
  },
  {
   "cell_type": "code",
   "execution_count": 4,
   "metadata": {
    "collapsed": true
   },
   "outputs": [],
   "source": [
    "def createSet1(dataset):\n",
    "    c1 = []\n",
    "    tempList = []\n",
    "    for i in range(len(dataset)):\n",
    "        for j in range(len(dataset[i])):\n",
    "            tempList.append(dataset[i][j])\n",
    "    for k in set(tempList):\n",
    "        tempList =[]\n",
    "        tempList.append(k)\n",
    "        c1.append(frozenset(tempList))\n",
    "    return c1"
   ]
  },
  {
   "cell_type": "markdown",
   "metadata": {},
   "source": [
    "**Q2.** Implement function `filter_candidates` that takes input the candidate itemsets, dataset and the minumum support count `min_sup` and filters out candidates that don't meet the support threshold.\n",
    "\n",
    "**Hint:** You should also return the support count information (perhaps as a `dict`) for the itemsets. This will be useful later on for the final output."
   ]
  },
  {
   "cell_type": "code",
   "execution_count": 5,
   "metadata": {
    "collapsed": true
   },
   "outputs": [],
   "source": [
    "def filter_candidates(candidate, dataset, min_sup):\n",
    "    retlist = []\n",
    "    support_data = {}\n",
    "    for i in range(len(candidate)):\n",
    "        support_count = 0\n",
    "        for j in range(len(dataset)):\n",
    "            if set(candidate[i]) <= set(dataset[j]):\n",
    "                support_count += 1 \n",
    "        if support_count >= min_sup:\n",
    "            retlist.append(candidate[i])\n",
    "            support_data[candidate[i]] = support_count\n",
    "    return retlist, support_data"
   ]
  },
  {
   "cell_type": "markdown",
   "metadata": {},
   "source": [
    "**Q3.** Implement the function `generateNextItemsets` that takes in itemsets of size `k` and generates candidate itemsets of size `k + 1`.\n",
    "\n",
    "**Hint:** Use the fact that if `[1, 2, 3, 4]` is a frequent itemset of size 4 then `[1, 2, 3]` and `[1, 2, 4]` both will be frequent itemsets of size 3. You can use this to reduce the number of candidate itemsets that you need to check drastically."
   ]
  },
  {
   "cell_type": "code",
   "execution_count": 6,
   "metadata": {
    "collapsed": true
   },
   "outputs": [],
   "source": [
    "def generateNextItemsets(freq_sets, frequent_one_sets):\n",
    "    retlist = []\n",
    "    for i in range(len(freq_sets)):\n",
    "        max_id = max(list(freq_sets[i]))\n",
    "        for j in range(len(frequent_one_sets)):\n",
    "            if max_id < list(frequent_one_sets[j])[0]:\n",
    "                tempList = list(freq_sets[i])\n",
    "                tempList.append(list(frequent_one_sets[j])[0])\n",
    "                retlist.append(frozenset(tempList))\n",
    "    return retlist"
   ]
  },
  {
   "cell_type": "markdown",
   "metadata": {},
   "source": [
    "**Q4.** Implement the function `aprioriFreqItemsets` that takes the entire dataset as the input and returns the frequent itemsets that have support count more than `min_sup`."
   ]
  },
  {
   "cell_type": "code",
   "execution_count": 7,
   "metadata": {
    "collapsed": true
   },
   "outputs": [],
   "source": [
    "def aprioriFreqItemsets(dataset, min_sup):\n",
    "    retlist = []\n",
    "    retmap = {}\n",
    "    set1 = createSet1(dataset)\n",
    "    frequent_one_sets,retmap = filter_candidates(set1, dataset, min_sup)\n",
    "    set_after_filter = frequent_one_sets\n",
    "    newly_generated_itemsets = set1\n",
    "    while newly_generated_itemsets != []:\n",
    "        set_after_filter, tempMap = filter_candidates(newly_generated_itemsets, dataset, min_sup)\n",
    "        if set_after_filter != []:\n",
    "            retmap = {**retmap, **tempMap}  \n",
    "            retlist.append(set_after_filter)\n",
    "        newly_generated_itemsets = generateNextItemsets(set_after_filter, frequent_one_sets)\n",
    "    return retlist,retmap"
   ]
  },
  {
   "cell_type": "markdown",
   "metadata": {},
   "source": [
    "**Q5.** Display the frequent item sets in the form of a table along with their `support_fraction` for the `large_retail.txt` dataset with min support count 300.\n",
    "\n",
    "Sample Table Format (tab separated table)\n",
    "\n",
    "~~~\n",
    "Sup     Freq Itemset\n",
    "0.67\t[1]\n",
    "0.44\t[1, 2]\n",
    "(and so on)\n",
    "...\n",
    "...\n",
    "~~~\n",
    "\n",
    "`support_fraction(itemset) = support_count(itemset) / num_total_transactions`.\n",
    "\n",
    "Note that the `support_fraction` should be rounded to the nearest 2 decimal places (use `round(sup, 2)`). Also `support_fraction` and the itemset should be separated by a tab (`'\\t'`). The itemsets should also be in a sorted order where smaller itemsets should come before larger itemsets and itemsets of the same size should be sorted amongst themselves.\n",
    "\n",
    "For eg. \n",
    "~~~~\n",
    "[1, 2] should come before [1, 2, 3]\n",
    "[1, 2, 3] should come before [1, 2, 4]\n",
    "[1, 2, 3] should come before [1, 4, 5]\n",
    "[1, 2, 3] should come before [2, 3, 4]\n",
    "~~~~\n",
    "\n",
    "Note that **this order is very important** because your output will be checked using the `diff` command. The output also **shouldn't contain any duplicates**. The sample output for the `small_retail.txt` dataset with min support count as 2 is:\n",
    "\n",
    "~~~~\n",
    "Sup     Freq Itemset\n",
    "0.67\t[1]\n",
    "0.78\t[2]\n",
    "0.67\t[3]\n",
    "0.22\t[4]\n",
    "0.22\t[5]\n",
    "0.44\t[1, 2]\n",
    "0.44\t[1, 3]\n",
    "0.22\t[1, 5]\n",
    "0.44\t[2, 3]\n",
    "0.22\t[2, 4]\n",
    "0.22\t[2, 5]\n",
    "0.22\t[1, 2, 3]\n",
    "0.22\t[1, 2, 5]\n",
    "~~~~\n",
    "\n",
    "**Store** this output for the `large_retail.txt` dataset in the file `apriori_itemsets.txt`. The sample output file for the `small_retail.txt` dataset has been provided to you as `small_apriori_itemsets.txt` for your convenience."
   ]
  },
  {
   "cell_type": "code",
   "execution_count": 8,
   "metadata": {
    "collapsed": true
   },
   "outputs": [],
   "source": [
    "# your code goes here\n",
    "retlist,retmap = aprioriFreqItemsets(large_dataset,300)\n",
    "file1 = open(\"apriori_itemsets.txt\",\"w\") \n",
    "file1.write(\"Sup\\tFreq Itemset\")  \n",
    "for k, v in retmap.items():\n",
    "    file1.write(\"\\n\"+str(round(v/len(large_dataset),2))+\"\\t\"+str(sorted(list(k), key=int)))    \n",
    "file1.close()"
   ]
  },
  {
   "cell_type": "markdown",
   "metadata": {},
   "source": [
    "**Q6.** Display the closed frequent item sets along with their `support_fraction` in the same format as specified in Q5."
   ]
  },
  {
   "cell_type": "code",
   "execution_count": 9,
   "metadata": {},
   "outputs": [
    {
     "name": "stdout",
     "output_type": "stream",
     "text": [
      "Sup\tFreq Itemset\n",
      "0.1\t[31]\n",
      "0.23\t[32]\n",
      "0.11\t[36]\n",
      "0.26\t[38]\n",
      "0.6\t[39]\n",
      "0.31\t[41]\n",
      "0.47\t[48]\n",
      "0.11\t[60]\n",
      "0.11\t[65]\n",
      "0.11\t[89]\n",
      "0.14\t[32, 39]\n",
      "0.12\t[32, 48]\n",
      "0.17\t[38, 39]\n",
      "0.11\t[38, 41]\n",
      "0.13\t[38, 48]\n",
      "0.23\t[39, 41]\n",
      "0.33\t[39, 48]\n",
      "0.18\t[41, 48]\n",
      "0.14\t[39, 41, 48]\n"
     ]
    }
   ],
   "source": [
    "# your code goes here\n",
    "set_list = []\n",
    "closed_list = []\n",
    "for i in retlist:\n",
    "    for j in i:\n",
    "        set_list.append(sorted(list(j)))\n",
    "print(\"Sup\\tFreq Itemset\")\n",
    "for i in set_list:\n",
    "    print(str(round(retmap[frozenset(i)]/len(large_dataset),2))+\"\\t\"+str(sorted(i)))"
   ]
  },
  {
   "cell_type": "markdown",
   "metadata": {},
   "source": [
    "**Q. (EXTRA CREDIT)** Generate the rules having confidence above `min_conf = 0.5` using the frequent itemsets generated in Q5. Display the rules in the form of a table.\n",
    "\n",
    "Sample table format (tab separated table)\n",
    "\n",
    "~~~\n",
    "Sup     Conf    Rule\n",
    "0.44\t0.67\t[1] -> [2]\n",
    "0.22\t1.0\t [5] -> [1, 2]\n",
    "0.22\t1.0\t [2, 5] -> [1]\n",
    "(and so on)\n",
    "...\n",
    "...\n",
    "~~~\n",
    "\n",
    "Note that rule confidence should be rounded to the nearest 2 decimal places (use `round(conf, 2)`). This table should also be tab (`'\\t'`) separated. The rules should be displayed in the sorted order. If a rule is given as `LHS -> RHS` then the rules for which `len(LHS)` is lesser should appear first. If the `len(LHS)` is equal for two rules then rules for which `len(RHS)` is lesser should appear first. If both `len(LHS)` and `len(RHS)` is equal then the rules should be sorted based on LHS first and then based on RHS.\n",
    "\n",
    "~~~~\n",
    "Note:\n",
    "LHS (Left Hand Side)\n",
    "RHS (Right Hand Side)\n",
    "~~~~\n",
    "\n",
    "For eg.\n",
    "~~~~\n",
    "[3] -> [2] should come before [1, 3] -> [4]\n",
    "[4] -> [2] should come before [2] -> [3, 4]\n",
    "[1, 3] -> [2] should come before [1, 5] -> [2]\n",
    "[1, 2] -> [3] should come before [1, 2] -> [5]\n",
    "~~~~\n",
    "\n",
    "Note that **this order is very important** because your output will be checked using the `diff` command. The sample output for the `small_retail.txt` dataset with `min_conf = 0.5` is:\n",
    "\n",
    "~~~~\n",
    "Sup\t Conf\tRule\n",
    "0.44\t0.67\t[1] -> [2]\n",
    "0.44\t0.67\t[1] -> [3]\n",
    "0.44\t0.57\t[2] -> [1]\n",
    "0.44\t0.57\t[2] -> [3]\n",
    "0.44\t0.67\t[3] -> [1]\n",
    "0.44\t0.67\t[3] -> [2]\n",
    "0.22\t1.0\t [4] -> [2]\n",
    "0.22\t1.0\t [5] -> [1]\n",
    "0.22\t1.0\t [5] -> [2]\n",
    "0.22\t1.0\t [5] -> [1, 2]\n",
    "0.22\t0.5\t [1, 2] -> [3]\n",
    "0.22\t0.5\t [1, 2] -> [5]\n",
    "0.22\t0.5\t [1, 3] -> [2]\n",
    "0.22\t1.0\t [1, 5] -> [2]\n",
    "0.22\t0.5\t [2, 3] -> [1]\n",
    "0.22\t1.0\t [2, 5] -> [1]\n",
    "~~~~\n",
    "\n",
    "**Store** this output for the `large_retail.txt` dataset in the file `apriori_rules.txt`. The sample output file for the `small_retail.txt` dataset has been provided to you as `small_apriori_rules.txt` for your convenience.\n",
    "\n",
    "**Hint:** you don't actually need to traverse the entire dataset to compute the confidence for a rule since you have already computed the `support_data` for all the frequent itemsets. `conf(LHS -> RHS) = sup(LHS union RHS) / sup(LHS)`."
   ]
  },
  {
   "cell_type": "code",
   "execution_count": 10,
   "metadata": {
    "collapsed": true
   },
   "outputs": [],
   "source": [
    "# your code goes here"
   ]
  },
  {
   "cell_type": "markdown",
   "metadata": {},
   "source": [
    "## Part 2 - Frequent Pattern Tree\n",
    "\n",
    "The FP-Growth Algorithm, proposed by [Han](https://www.cs.sfu.ca/~jpei/publications/sigmod00.pdf), is an efficient and scalable method for mining the complete set of frequent patterns by pattern fragment growth, using an extended prefix-tree structure for storing compressed and crucial information about frequent patterns named frequent-pattern tree (FP-tree). [wiki]"
   ]
  },
  {
   "cell_type": "code",
   "execution_count": 11,
   "metadata": {
    "collapsed": true
   },
   "outputs": [],
   "source": [
    "# variables:\n",
    "# self.item_id: item id of the item\n",
    "# self.item_count: item count for this node\n",
    "# self.node_link: next pointer for the linked list that connects\n",
    "#                 nodes of the same item_id (required for the FP-growth algorithm)\n",
    "# self.parent: pointer to the parent node (should be None for the root)\n",
    "# self.children: dictionary for the children (maps from item_id to the FPTreeNode object)\n",
    "# NOTE: root node should have item_id as -1\n",
    "\n",
    "class FPTreeNode:\n",
    "    def __init__(self, uid, num):\n",
    "        self.item_id = uid\n",
    "        self.item_count = num\n",
    "        self.node_link = None\n",
    "        self.parent = None\n",
    "        self.children = {}\n",
    "    def displayTree(self, tab=1):\n",
    "        if self.item_id == -1:\n",
    "            print ('  '*tab, 'root')\n",
    "        else:\n",
    "            print ('  '*tab, 'item_id:', self.item_id, 'item_count:', self.item_count)\n",
    "        for key in sorted(self.children.keys()):\n",
    "            self.children[key].displayTree(tab + 1)\n",
    "    # helper function for saveToFile\n",
    "    def saveToFile_helper(self, fp, tab=1):\n",
    "        if self.item_id == -1:\n",
    "            print ('  '*tab, 'root', file=fp)\n",
    "        else:\n",
    "            print ('  '*tab, 'item_id:', self.item_id, 'item_count:', self.item_count, file=fp)\n",
    "        for key in sorted(self.children.keys()):\n",
    "            self.children[key].saveToFile_helper(fp, tab + 1)\n",
    "    # call this to save to file\n",
    "    def saveToFile(self, filename):\n",
    "        with open(filename, 'w') as fp:\n",
    "            self.saveToFile_helper(fp)"
   ]
  },
  {
   "cell_type": "markdown",
   "metadata": {},
   "source": [
    "**Q7.** Build the FP-Tree for the `large_retail.txt` dataset with minimum support count as 300 and display the tree using the `displayTree` function. Also save this output to `fp_tree.txt` using the `saveToFile` function.\n",
    "\n",
    "Note that while reordering the transactions based on their frequency, **item_ids that have equal frequency should be ordered based on the item_id value**.\n",
    "\n",
    "For eg.\n",
    "~~~~\n",
    "For the small_retail.txt dataset:\n",
    "{item_id: frequency} -> {1: 6, 2: 7, 3: 6, 4: 2, 5: 2}\n",
    "The transaction [1, 2, 3, 5] should be reordered as [2, 1, 3, 5]\n",
    "Notice the relative ordering of 1 and 3 (both have 6 occurences in the dataset)\n",
    "~~~~\n",
    "\n",
    "Note that the **relative order between transactions should not be changed**, they should be inserted in the same order as they appear in the dataset. For the `small_retail.txt` the transactions would be inserted in the FP Tree in this order:\n",
    "~~~~\n",
    "[2, 1, 5]\n",
    "[2, 4]\n",
    "[2, 3]\n",
    "[2, 1, 4]\n",
    "[1, 3]\n",
    "[2, 3]\n",
    "[1, 3]\n",
    "[2, 1, 3, 5]\n",
    "[2, 1, 3]\n",
    "~~~~\n",
    "\n",
    "The tree output for `small_retail.txt` dataset is given as follows:\n",
    "~~~~\n",
    "   root\n",
    "     item_id: 1 item_count: 2\n",
    "       item_id: 3 item_count: 2\n",
    "     item_id: 2 item_count: 7\n",
    "       item_id: 1 item_count: 4\n",
    "         item_id: 3 item_count: 2\n",
    "           item_id: 5 item_count: 1\n",
    "         item_id: 4 item_count: 1\n",
    "         item_id: 5 item_count: 1\n",
    "       item_id: 3 item_count: 2\n",
    "       item_id: 4 item_count: 1\n",
    "~~~~\n",
    "This output has been provided to you as `small_fp_tree.txt` for your convenience. You can use the `diff` command in Linux to check your output with the provided output."
   ]
  },
  {
   "cell_type": "code",
   "execution_count": 12,
   "metadata": {
    "collapsed": true
   },
   "outputs": [],
   "source": [
    "#function to build FPTree\n",
    "def buildeFPTree(dataSet,min_sup):\n",
    "    itemPointerRecord = {}\n",
    "    #count how many times each item appears in dataset\n",
    "    for transaction in dataSet:\n",
    "        for item in transaction:\n",
    "            if item in itemPointerRecord:\n",
    "                itemPointerRecord[item] += dataSet[transaction]\n",
    "            else:\n",
    "                itemPointerRecord[item] = dataSet[transaction]\n",
    "    #only keep the frequent items\n",
    "    tempPointerRecord = {}\n",
    "    for k in itemPointerRecord.keys():\n",
    "        if itemPointerRecord[k] >= min_sup:\n",
    "            tempPointerRecord[k] = itemPointerRecord[k]\n",
    "    itemPointerRecord = tempPointerRecord\n",
    "    #when no item is frequent return nothing\n",
    "    if len(list(itemPointerRecord.keys())) < 1: \n",
    "        return None,None\n",
    "    #add one more field in pointer dictionary key as item pointer\n",
    "    for k in itemPointerRecord:\n",
    "        itemPointerRecord[k] = [itemPointerRecord[k],None]\n",
    "    #initialize FP tree root\n",
    "    root = FPTreeNode(-1,1)\n",
    "    for transaction,count in dataSet.items():\n",
    "        orderItemList = []\n",
    "        for item in transaction:\n",
    "            if item in set(itemPointerRecord.keys()):\n",
    "                orderItemList.append(item)\n",
    "        if orderItemList != []:\n",
    "            #use bubble sort to reorder items in frequent list by frequency in descending order\n",
    "            for i in range(len(orderItemList)):\n",
    "                for j in range(len(orderItemList) - 1):\n",
    "                    if itemPointerRecord[orderItemList[j]][0] < itemPointerRecord[orderItemList[j+1]][0]:\n",
    "                        tempInt = orderItemList[j]\n",
    "                        orderItemList[j] = orderItemList[j+1]\n",
    "                        orderItemList[j+1] = tempInt\n",
    "            #add the new transaction to tree\n",
    "            root, itemPointerRecord = updateTree(orderItemList,root,itemPointerRecord,count)\n",
    "    return root,itemPointerRecord"
   ]
  },
  {
   "cell_type": "code",
   "execution_count": 13,
   "metadata": {
    "collapsed": true
   },
   "outputs": [],
   "source": [
    "#function to update Tree\n",
    "def updateTree(orderItemList, root, itemPointerRecord, count):\n",
    "    #if the item to add is in current root's dictionary, increment item_count value\n",
    "    if orderItemList[0] in root.children:\n",
    "        root.children[orderItemList[0]].item_count += count \n",
    "    #if the item to add is not in dictionary, create new node\n",
    "    else:\n",
    "        newNode = FPTreeNode(orderItemList[0], count)\n",
    "        newNode.parent = root\n",
    "        # if the item doesn't have pointer yet, add new node as pointer\n",
    "        if itemPointerRecord[orderItemList[0]][1] == None:\n",
    "            itemPointerRecord[orderItemList[0]][1] = newNode\n",
    "        # if the item has pointer, set new node as the pointer and link the existing pointer/pointers\n",
    "        else:\n",
    "            newNode.node_link = itemPointerRecord[orderItemList[0]][1]\n",
    "            itemPointerRecord[orderItemList[0]][1] = newNode \n",
    "        # add new node to children dictionary\n",
    "        root.children[orderItemList[0]] = newNode\n",
    "    # if there are more items to add, update whole tree\n",
    "    if len(orderItemList) > 1:\n",
    "        root.children[orderItemList[0]], itemPointerRecord = updateTree(orderItemList[1:], root.children[orderItemList[0]], itemPointerRecord, count)\n",
    "    return root, itemPointerRecord"
   ]
  },
  {
   "cell_type": "code",
   "execution_count": 14,
   "metadata": {
    "collapsed": true
   },
   "outputs": [],
   "source": [
    "#convert transactions to frozenset and store them in a dictionary\n",
    "myDict = {}\n",
    "for transaction in large_dataset:\n",
    "    if frozenset(transaction) in myDict:\n",
    "        myDict[frozenset(transaction)] = myDict[frozenset(transaction)] + 1\n",
    "    else:    \n",
    "        myDict[frozenset(transaction)] = 1\n",
    "myFPtree,myHeaderTable = buildeFPTree(myDict,300)\n",
    "myFPtree.saveToFile('fp_tree.txt')\n",
    "\n",
    "###\n",
    "#myHeaderTable test code\n",
    "###\n",
    "#for k in myHeaderTable.keys():\n",
    "    #tempNode = myHeaderTable[k][1]\n",
    "    #while tempNode != None:\n",
    "        #Anode = tempNode\n",
    "        #while Anode.parent != None:\n",
    "            #print(str(Anode.item_id),str(Anode.item_count))\n",
    "            #Anode = Anode.parent\n",
    "        #print('--------')\n",
    "        #tempNode = tempNode.node_link\n",
    "    #print('#######')"
   ]
  },
  {
   "cell_type": "markdown",
   "metadata": {},
   "source": [
    "**Q8.** Implement the FP-growth algorithm to generate the frequent itemsets from the FP-tree you generate in Q7 (with min support count of 300). Display the frequent item sets in the same format as specified in Q5. **Store** this output for the `large_retail.txt` dataset in the file `fp_growth_itemsets.txt`. **Remember** you are only allowed to mine the FP tree that you generate in Q7. you cannot use the dataset as the input to your algorithm."
   ]
  },
  {
   "cell_type": "code",
   "execution_count": 15,
   "metadata": {
    "collapsed": true
   },
   "outputs": [],
   "source": [
    "#function to get prefix path    \n",
    "def getPrefixPath(basePattern, node):\n",
    "    condition = {}\n",
    "    while node != None:\n",
    "        prePath = []\n",
    "        findPath(node, prePath)\n",
    "        if len(prePath) > 1: \n",
    "            condition[frozenset(prePath[1:])] = node.item_count\n",
    "        node = node.node_link\n",
    "        \n",
    "    return condition"
   ]
  },
  {
   "cell_type": "code",
   "execution_count": 16,
   "metadata": {
    "collapsed": true
   },
   "outputs": [],
   "source": [
    "#function to find path to top\n",
    "def findPath(newNode, prefix): \n",
    "    if newNode.parent is not None:\n",
    "        prefix.append(newNode.item_id)\n",
    "        findPath(newNode.parent, prefix)"
   ]
  },
  {
   "cell_type": "code",
   "execution_count": 17,
   "metadata": {
    "collapsed": true
   },
   "outputs": [],
   "source": [
    "#function to help find list count\n",
    "def findCount(freqList,node):\n",
    "    global frequenct_one_list\n",
    "    toReturn = 0\n",
    "    ignoreList = frequenct_one_list[frequenct_one_list.index(freqList[0])+1:]    \n",
    "    for key in node.children.keys():\n",
    "        if key not in ignoreList:\n",
    "            if key == freqList[0]:\n",
    "                if len(freqList) == 1:\n",
    "                    toReturn += node.children[key].item_count\n",
    "                else:\n",
    "                    toReturn += findCount(freqList[1:],node.children[key])\n",
    "            else:\n",
    "                toReturn += findCount(freqList,node.children[key])\n",
    "    return toReturn"
   ]
  },
  {
   "cell_type": "code",
   "execution_count": 18,
   "metadata": {
    "collapsed": true
   },
   "outputs": [],
   "source": [
    "#function to mine FP tree\n",
    "def growTree(inNode, pointers, min_sup, preFix, itemList):\n",
    "    global myFPtree,itemLength\n",
    "    \n",
    "    headerList = sorted(list(pointers.keys()),reverse=True)\n",
    "    for i in range(len(headerList)):\n",
    "        for j in range(len(headerList) - 1):\n",
    "            if pointers[headerList[j]][0] > pointers[headerList[j+1]][0]:\n",
    "                tempInt = headerList[j]\n",
    "                headerList[j] = headerList[j+1]\n",
    "                headerList[j+1] = tempInt\n",
    "    for basePattern in headerList:\n",
    "        frequentSet = preFix.copy()\n",
    "        frequentSet.add(basePattern)\n",
    "        if list(frequentSet)[0] in pointers:\n",
    "            itemList[frozenset(frequentSet)] = round(pointers[list(frequentSet)[0]][0]/itemLength,2)\n",
    "        else:\n",
    "            freList = sorted(list(frequentSet))\n",
    "            for i in range(len(freList)):\n",
    "                for j in range(len(freList) - 1):\n",
    "                    if myHeaderTable[freList[j]][0] < myHeaderTable[freList[j+1]][0]:\n",
    "                        tempInt = freList[j]\n",
    "                        freList[j] = freList[j+1]\n",
    "                        freList[j+1] = tempInt\n",
    "            \n",
    "            itemList[frozenset(frequentSet)] = round(findCount(freList,myFPtree)/itemLength,2)\n",
    "        newPattern = getPrefixPath(basePattern, pointers[basePattern][1])\n",
    "        conditionalTree, head = buildeFPTree(newPattern, min_sup)\n",
    "        if head is not None: \n",
    "            growTree(conditionalTree, head, min_sup, frequentSet, itemList)"
   ]
  },
  {
   "cell_type": "code",
   "execution_count": 19,
   "metadata": {},
   "outputs": [
    {
     "name": "stdout",
     "output_type": "stream",
     "text": [
      "Sup\tFreq Itemset\n",
      "0.1\t[31]\n",
      "0.23\t[32]\n",
      "0.11\t[36]\n",
      "0.26\t[38]\n",
      "0.6\t[39]\n",
      "0.31\t[41]\n",
      "0.47\t[48]\n",
      "0.11\t[60]\n",
      "0.11\t[65]\n",
      "0.11\t[89]\n",
      "0.14\t[32, 39]\n",
      "0.12\t[32, 48]\n",
      "0.17\t[38, 39]\n",
      "0.11\t[38, 41]\n",
      "0.13\t[38, 48]\n",
      "0.23\t[39, 41]\n",
      "0.33\t[39, 48]\n",
      "0.18\t[41, 48]\n",
      "0.14\t[39, 41, 48]\n"
     ]
    }
   ],
   "source": [
    "frequenct_one_list = sorted(list(myHeaderTable.keys()))\n",
    "for i in range(len(frequenct_one_list)):\n",
    "    for j in range(len(frequenct_one_list) - 1):\n",
    "        if myHeaderTable[frequenct_one_list[j]][0] < myHeaderTable[frequenct_one_list[j+1]][0]:\n",
    "            tempInt = frequenct_one_list[j]\n",
    "            frequenct_one_list[j] = frequenct_one_list[j+1]\n",
    "            frequenct_one_list[j+1] = tempInt\n",
    "itemLength = len(large_dataset)        \n",
    "freqList = {}\n",
    "growTree(myFPtree,myHeaderTable,300,set([]),freqList)\n",
    "\n",
    "trysort = [sorted(k) for k in freqList.keys()]\n",
    "#find unique length values for frequent set for final sorting \n",
    "lengthList = sorted(list(set([len(k) for k in trysort])))\n",
    "#add frequent sets to finalOrderList for final output\n",
    "finalOrderList = []\n",
    "for i in lengthList:\n",
    "    tempList = []\n",
    "    for j in trysort:\n",
    "        if len(j) == i:\n",
    "            tempList.append(j)\n",
    "    finalOrderList.append(sorted(tempList))\n",
    "\n",
    "\n",
    "#show/write output\n",
    "file2 = open(\"fp_growth_itemsets.txt\",\"w\") \n",
    "file2.write(\"Sup\\tFreq Itemset\") \n",
    "print(\"Sup\\tFreq Itemset\")\n",
    "for lis in finalOrderList:\n",
    "    for i in lis:\n",
    "        file2.write('\\n'+str(freqList[frozenset(i)])+'\\t'+str(i))\n",
    "        print(str(freqList[frozenset(i)])+'\\t'+str(i))\n",
    "file2.close()"
   ]
  }
 ],
 "metadata": {
  "kernelspec": {
   "display_name": "Python 3",
   "language": "python",
   "name": "python3"
  },
  "language_info": {
   "codemirror_mode": {
    "name": "ipython",
    "version": 3
   },
   "file_extension": ".py",
   "mimetype": "text/x-python",
   "name": "python",
   "nbconvert_exporter": "python",
   "pygments_lexer": "ipython3",
   "version": "3.6.1"
  }
 },
 "nbformat": 4,
 "nbformat_minor": 2
}
