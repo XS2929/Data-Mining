{
 "cells": [
  {
   "cell_type": "markdown",
   "metadata": {},
   "source": [
    "## Name(s):"
   ]
  },
  {
   "cell_type": "code",
   "execution_count": 70,
   "metadata": {
    "collapsed": true
   },
   "outputs": [],
   "source": [
    "#Xujian Shao"
   ]
  },
  {
   "cell_type": "markdown",
   "metadata": {},
   "source": [
    "# Assignment 2: Intro to Clustering\n",
    "\n",
    "In this assignment we'll be looking at three popular types of clustering algorithms -- K-Means clustering, Hierarchical clustering and Density Based clustering. We'll also look at some measures of cluster quality like cohesion, separation and silhoutte coefficient."
   ]
  },
  {
   "cell_type": "markdown",
   "metadata": {},
   "source": [
    "## Part 1: K Means Clustering\n",
    "\n",
    "In k means clustering you are given a dataset and a hyperparameter k specifying the number of desired of output clusters. The basic idea of k means is to minimize the sum of squared error (SSE) of the output clusters. Unfortunately, the solution to this problem is NP Hard. In this assignment we'll be implementing the iterative algorithm that produces the locally optimal solution to this problem but, guarantees convergence."
   ]
  },
  {
   "cell_type": "code",
   "execution_count": 71,
   "metadata": {
    "collapsed": true
   },
   "outputs": [],
   "source": [
    "# Some headers\n",
    "import random\n",
    "import numpy as np\n",
    "import matplotlib.pyplot as plt\n",
    "from numpy.random import rand\n",
    "from numpy import square, sqrt"
   ]
  },
  {
   "cell_type": "code",
   "execution_count": 72,
   "metadata": {
    "collapsed": true
   },
   "outputs": [],
   "source": [
    "# Enable inline mode for matplotlib so that IPython displays graphs.\n",
    "%matplotlib inline"
   ]
  },
  {
   "cell_type": "code",
   "execution_count": 73,
   "metadata": {
    "collapsed": true
   },
   "outputs": [],
   "source": [
    "# get data from text file\n",
    "data = np.genfromtxt(\"data.csv\", delimiter=\",\")"
   ]
  },
  {
   "cell_type": "markdown",
   "metadata": {},
   "source": [
    "Q1. Implement the function `generateClusters` that returns clusters, given the cluster centroids (`mu`) and the dataset (`data`). Each datapoint needs to be associated to the closest cluster centroid."
   ]
  },
  {
   "cell_type": "code",
   "execution_count": 74,
   "metadata": {
    "collapsed": true
   },
   "outputs": [],
   "source": [
    "def generateClusters(data, mu):\n",
    "    global square, sqrt, np\n",
    "    clusters = []\n",
    "    for k in range(len(mu)):\n",
    "        q = []\n",
    "        clusters.append(q)\n",
    "        \n",
    "    for i in range(len(data)):\n",
    "        min_index = 0\n",
    "        min_distance = 99999 \n",
    "        for j in range(len(mu)):\n",
    "            temp_distance = sqrt(square(data[i][0] - mu[j][0]) + square(data[i][1] - mu[j][1]))\n",
    "            if temp_distance < min_distance:\n",
    "                min_distance = temp_distance\n",
    "                min_index = j\n",
    "                \n",
    "        clusters[min_index].append(data[i])\n",
    "    return clusters"
   ]
  },
  {
   "cell_type": "markdown",
   "metadata": {},
   "source": [
    "Q2. Implement the function `recompute_centroids` that returns the centroids given a set of input clusters. Hint: you need to calculate the mean for each cluster."
   ]
  },
  {
   "cell_type": "code",
   "execution_count": 75,
   "metadata": {
    "collapsed": true
   },
   "outputs": [],
   "source": [
    "def recompute_centroids(clusters):\n",
    "    centroids = []\n",
    "    for i in range (len(clusters)):\n",
    "        centroids.append(sum(clusters[i])/len(clusters[i]))\n",
    "    return centroids"
   ]
  },
  {
   "cell_type": "markdown",
   "metadata": {},
   "source": [
    "Q3. Implement the function `checkConvergence` that checks if the termination condition of k means algorithm has reached, i.e. the previous centroids are the same as the new centroids. "
   ]
  },
  {
   "cell_type": "code",
   "execution_count": 76,
   "metadata": {
    "collapsed": true
   },
   "outputs": [],
   "source": [
    "def checkConvergence(mu, previous_mu):\n",
    "    global np\n",
    "    return np.array_equal(mu, previous_mu)"
   ]
  },
  {
   "cell_type": "markdown",
   "metadata": {},
   "source": [
    "Q4. Implement the function `kMeansClustering` that returns k clusters along with their centroids given the input dataset and the desired number of clusters (`k`)."
   ]
  },
  {
   "cell_type": "code",
   "execution_count": 77,
   "metadata": {
    "collapsed": true
   },
   "outputs": [],
   "source": [
    "def kMeansClustering(data, k):\n",
    "    random_index_list = random.sample(range(0, len(data)), k)\n",
    "    mu = []\n",
    "    previous_mu = []\n",
    "    for i in range (len(random_index_list)):\n",
    "        mu.append(data[random_index_list[i]])\n",
    "    while not checkConvergence(mu, previous_mu):\n",
    "        clusters = generateClusters(data,mu)\n",
    "        previous_mu = mu\n",
    "        mu = recompute_centroids(clusters)\n",
    "    return(mu, clusters)"
   ]
  },
  {
   "cell_type": "markdown",
   "metadata": {},
   "source": [
    "Q5. Cluster the data present in `data.csv` using `kMeansClustering` with `k = 5`. Display the clusters using `plt.scatter`, make sure to mark different clusters with a different color. Also calculate the average cohesion and separation for the generated clusters."
   ]
  },
  {
   "cell_type": "code",
   "execution_count": 78,
   "metadata": {
    "scrolled": false
   },
   "outputs": [
    {
     "data": {
      "image/png": "[encoded data removed]",
      "text/plain": [
       "<matplotlib.figure.Figure at 0x1186b6eb8>"
      ]
     },
     "metadata": {},
     "output_type": "display_data"
    }
   ],
   "source": [
    "mu, clusters = kMeansClustering(data, 5)\n",
    "for i in range(len(clusters)):\n",
    "    cluster = np.array(clusters[i])\n",
    "    plt.scatter(cluster[:,0],cluster[:,1], marker='.')\n",
    "plt.show()"
   ]
  },
  {
   "cell_type": "markdown",
   "metadata": {},
   "source": [
    "Q. (Extra Credit) Implement kMeans++, to initialise the centroids in the k Means algorithm. Does this improve performance? Give cohesion and spearation values."
   ]
  },
  {
   "cell_type": "code",
   "execution_count": 79,
   "metadata": {
    "collapsed": true
   },
   "outputs": [],
   "source": [
    "# your code goes here\n"
   ]
  },
  {
   "cell_type": "markdown",
   "metadata": {},
   "source": [
    "## Part 2: Hierarchical Clustering\n",
    "\n",
    "For this part you'll be implementing single-linkage clustering, one of several methods of hierarchical clustering. It is based on grouping clusters in bottom-up fashion (agglomerative clustering), at each step combining two clusters that contain the closest pair of elements not yet belonging to the same cluster as each other. In the beginning of the agglomerative clustering process, each element is in a cluster of its own. The clusters are then sequentially combined into larger clusters, until all elements end up being in the same cluster. At each step, the two clusters separated by the shortest distance are combined. Here distance is defined as the euclidean distance between the two points."
   ]
  },
  {
   "cell_type": "code",
   "execution_count": 80,
   "metadata": {
    "collapsed": true
   },
   "outputs": [],
   "source": [
    "# get data from text file\n",
    "data = np.genfromtxt(\"data2.csv\", delimiter=\",\")"
   ]
  },
  {
   "cell_type": "markdown",
   "metadata": {},
   "source": [
    "Q6. Implement single-linkage clustering. Print the cophenetic correlation coefficient (CPCC) for the resultant clustering."
   ]
  },
  {
   "cell_type": "code",
   "execution_count": 81,
   "metadata": {
    "collapsed": true
   },
   "outputs": [],
   "source": [
    "#function to calculate Euclid distance between 2 data points\n",
    "def calculateDistance(data1,data2):\n",
    "    global square, sqrt\n",
    "    distance =  sqrt(square(data1[0] - data2[0]) + square(data1[1] - data2[1]))\n",
    "    return distance"
   ]
  },
  {
   "cell_type": "code",
   "execution_count": 82,
   "metadata": {
    "collapsed": true
   },
   "outputs": [],
   "source": [
    "#function to generate initial distance matrix for the whole data set\n",
    "def initMatrix (data):\n",
    "    matrix = []\n",
    "    for i in range(len(data)):\n",
    "        newRow = []\n",
    "        for j in range(len(data)):\n",
    "            if i == j:\n",
    "                newRow.append(100)\n",
    "            else:\n",
    "                newRow.append(calculateDistance(data[i],data[j]))\n",
    "        matrix.append(newRow)\n",
    "    return matrix"
   ]
  },
  {
   "cell_type": "code",
   "execution_count": 83,
   "metadata": {
    "collapsed": true
   },
   "outputs": [],
   "source": [
    "#function to generate initial CPCC matrix for the whole data set\n",
    "def initCPCCMatrix (data):\n",
    "    matrix = []\n",
    "    for i in range(len(data)):\n",
    "        newRow = []\n",
    "        for j in range(len(data)):\n",
    "            newRow.append(-1)\n",
    "        matrix.append(newRow)\n",
    "    return matrix"
   ]
  },
  {
   "cell_type": "code",
   "execution_count": 84,
   "metadata": {
    "collapsed": true
   },
   "outputs": [],
   "source": [
    "#function to find the shortest value in distance matrix\n",
    "#return the index in matrix\n",
    "def findMinIndex():\n",
    "    global matrix\n",
    "    row = column = 0\n",
    "    minDistance = 100\n",
    "    for i in range(len(matrix)-1):\n",
    "        for j in range(i+1,len(matrix)):\n",
    "            if matrix[i][j] < minDistance:\n",
    "                minDistance = matrix[i][j]\n",
    "                row = i\n",
    "                column = j\n",
    "    if minDistance == 100:\n",
    "        return 0, 0\n",
    "    else: \n",
    "        return row,column"
   ]
  },
  {
   "cell_type": "code",
   "execution_count": 85,
   "metadata": {
    "collapsed": true
   },
   "outputs": [],
   "source": [
    "def updateMatrix(clusterIndex1, clusterIndex2):\n",
    "    global data, matrix, addedList\n",
    "    if clusterIndex2 == -1:\n",
    "        for i in range(len(matrix)):\n",
    "            if addedList[i] == -1:\n",
    "                minDistance = 100\n",
    "                for j in range(len(matrix)):\n",
    "                    if addedList[j] == clusterIndex1 and matrix[i][j] < minDistance:\n",
    "                        minDistance = matrix[i][j]\n",
    "                for k in range(len(matrix)):\n",
    "                    if addedList[k] == clusterIndex1:\n",
    "                        matrix[i][k] = minDistance\n",
    "                        matrix[k][i] = minDistance\n",
    "    \n",
    "    else:\n",
    "        minDistance = 100\n",
    "        for i in range(len(matrix)):\n",
    "            for j in range(len(matrix)):\n",
    "                if addedList[i] == clusterIndex1 and addedList[j] == clusterIndex2 and matrix[i][j] < minDistance:\n",
    "                    minDistance = matrix[i][j]\n",
    "        for i in range(len(matrix)):\n",
    "            for j in range(len(matrix)):\n",
    "                if addedList[i] == clusterIndex1 and addedList[j] == clusterIndex2:\n",
    "                    matrix[i][j] = minDistance\n",
    "                    matrix[j][i] = minDistance    "
   ]
  },
  {
   "cell_type": "code",
   "execution_count": 86,
   "metadata": {
    "collapsed": true
   },
   "outputs": [],
   "source": [
    "addedList = [-1]*len(data)\n",
    "matrix = initMatrix(data)\n",
    "CPCCMatrix = initCPCCMatrix (data)\n",
    "run = True\n",
    "while(run):\n",
    "    x,y = findMinIndex()\n",
    "    if x == y == 0:\n",
    "        run = False\n",
    "    if addedList[x] == -1 and addedList[y] == -1:\n",
    "        addedList[x] = x\n",
    "        addedList[y] = x\n",
    "        for i in range(len(data)):\n",
    "            for j in range(len(data)):\n",
    "                if addedList[i] == addedList[j] and addedList[i] != -1:\n",
    "                    matrix[i][j] = 100\n",
    "        clusterList = list(set(addedList))\n",
    "        for i in clusterList:\n",
    "            if i != addedList[x]:\n",
    "                updateMatrix(addedList[x],i)\n",
    "    elif addedList[x] == -1 and addedList[y] != -1:\n",
    "        addedList[x] = addedList[y]\n",
    "        clusterList = list(set(addedList))\n",
    "        for i in range(len(data)):\n",
    "            for j in range(len(data)):\n",
    "                if addedList[i] == addedList[j] and addedList[i] != -1:\n",
    "                    matrix[i][j] = 100\n",
    "        for i in clusterList:\n",
    "            if i != addedList[x]:\n",
    "                updateMatrix(addedList[x],i)           \n",
    "    elif addedList[x] != -1 and addedList[y] == -1:\n",
    "        addedList[y] = addedList[x]\n",
    "        clusterList = list(set(addedList))\n",
    "        for i in range(len(data)):\n",
    "            for j in range(len(data)):\n",
    "                if addedList[i] == addedList[j] and addedList[i] != -1:\n",
    "                    matrix[i][j] = 100\n",
    "        for i in clusterList:\n",
    "            if i != addedList[y]:\n",
    "                updateMatrix(addedList[y],i)\n",
    "    else: \n",
    "        temp = addedList[x]\n",
    "        for i in range(len(data)):\n",
    "            if addedList[i] == temp:\n",
    "                addedList[i] = addedList[y]\n",
    "        clusterList = list(set(addedList))\n",
    "        for i in range(len(data)):\n",
    "            for j in range(len(data)):\n",
    "                if addedList[i] == addedList[j] and addedList[i] != -1:\n",
    "                    matrix[i][j] = 100\n",
    "        for i in clusterList:\n",
    "            if i != addedList[y]:\n",
    "                updateMatrix(addedList[y],i)\n"
   ]
  },
  {
   "cell_type": "markdown",
   "metadata": {},
   "source": [
    "## Part 3: Density Based Clustering (DBSCAN)\n",
    "\n",
    "For this part we'll be implementing DBSCAN, one of the most popular density based clustering algorithms."
   ]
  },
  {
   "cell_type": "code",
   "execution_count": 87,
   "metadata": {
    "scrolled": true
   },
   "outputs": [
    {
     "data": {
      "text/plain": [
       "<matplotlib.collections.PathCollection at 0x118a5ac50>"
      ]
     },
     "execution_count": 87,
     "metadata": {},
     "output_type": "execute_result"
    },
    {
     "data": {
      "image/png": "[encoded data removed]",
      "text/plain": [
       "<matplotlib.figure.Figure at 0x1189d9710>"
      ]
     },
     "metadata": {},
     "output_type": "display_data"
    }
   ],
   "source": [
    "# get data from text file\n",
    "data = np.genfromtxt(\"data3.csv\", delimiter=\",\")\n",
    "plt.scatter(data[:,0],data[:,1], marker='.')"
   ]
  },
  {
   "cell_type": "markdown",
   "metadata": {},
   "source": [
    "Q7. Run your `kMeansClustering` with `k = 2` and display the output clusters (make sure that different clusters are marked with different colors). Also display the cohesion and separation values for the clusters. What do you observe?"
   ]
  },
  {
   "cell_type": "code",
   "execution_count": 88,
   "metadata": {},
   "outputs": [
    {
     "data": {
      "image/png": "[encoded data removed]",
      "text/plain": [
       "<matplotlib.figure.Figure at 0x1186c28d0>"
      ]
     },
     "metadata": {},
     "output_type": "display_data"
    }
   ],
   "source": [
    "mu, clusters = kMeansClustering(data, 2)\n",
    "for i in range(2):\n",
    "    cluster = np.array(clusters[i])\n",
    "    plt.scatter(cluster[:,0],cluster[:,1], marker='.')\n",
    "plt.show()"
   ]
  },
  {
   "cell_type": "markdown",
   "metadata": {},
   "source": [
    "Q8. Implement the DBSCAN algorithm and display output clusters. DBSCAN requires two parameters: epsilon and the minimum number of points required to form a dense region (minPts). A good starting point for epsilon is `0.3` and `minPts = 2`. You should tweak these values and observe how the resultant clusters change."
   ]
  },
  {
   "cell_type": "code",
   "execution_count": 89,
   "metadata": {},
   "outputs": [],
   "source": [
    "def calculatePointDistance(data1,data2):\n",
    "    global square, sqrt\n",
    "    distance =  sqrt(square(data1[0] - data2[0]) + square(data1[1] - data2[1]))\n",
    "    return distance"
   ]
  },
  {
   "cell_type": "code",
   "execution_count": 90,
   "metadata": {},
   "outputs": [],
   "source": [
    "def countNeighbor():\n",
    "    global data, countNeighbor, epsilon\n",
    "    for i in range(len(data)):\n",
    "        for j in range(len(data)):\n",
    "            if i != j and calculatePointDistance(data[i],data[j]) <= epsilon:\n",
    "                countNeighborList[i] += 1  "
   ]
  },
  {
   "cell_type": "code",
   "execution_count": 91,
   "metadata": {},
   "outputs": [],
   "source": [
    "def setBorderPoints(index):\n",
    "    global data, epsilon, classifyList, borderList\n",
    "    minDistance = 100\n",
    "    minIndex = -1\n",
    "    for i in range(len(data)):\n",
    "        if calculatePointDistance(data[index],data[i]) < minDistance \\\n",
    "        and i != index and classifyList[i] != -1:\n",
    "            minDistance = calculatePointDistance(data[index],data[i])\n",
    "            minIndex = i\n",
    "    if minDistance <= epsilon:\n",
    "        borderList[index] = minIndex        "
   ]
  },
  {
   "cell_type": "code",
   "execution_count": 92,
   "metadata": {
    "collapsed": true
   },
   "outputs": [],
   "source": [
    "def updateBorderCluster(oldClusterIndex, newClusterIndex):\n",
    "    global borderList, data\n",
    "    for i in range(len(data)):\n",
    "        if borderList[i] == oldClusterIndex:\n",
    "            borderList[i] = newClusterIndex"
   ]
  },
  {
   "cell_type": "code",
   "execution_count": 93,
   "metadata": {},
   "outputs": [
    {
     "data": {
      "image/png": "[encoded data removed]",
      "text/plain": [
       "<matplotlib.figure.Figure at 0x1185fa278>"
      ]
     },
     "metadata": {},
     "output_type": "display_data"
    }
   ],
   "source": [
    "countNeighborList = [0]*len(data)\n",
    "classifyList = [-1]*len(data)\n",
    "borderList = [-1]*len(data)\n",
    "epsilon = 0.3\n",
    "minPts = 2\n",
    "recordCluster = [-1]*len(data)\n",
    "countNeighbor()\n",
    "for i in range(len(data)):\n",
    "    if countNeighborList[i] > minPts:\n",
    "        classifyList[i] = i       \n",
    "\n",
    "for i in range(len(data)):\n",
    "    if classifyList[i] == -1:\n",
    "        setBorderPoints(i)\n",
    "\n",
    "for i in range(len(data)):\n",
    "    for j in range(len(data)):\n",
    "        if classifyList[i] != -1 and classifyList[j] != -1 and classifyList[j] \\\n",
    "        != classifyList[i] and i != j and calculatePointDistance(data[i], data[j]) <= epsilon:\n",
    "            if classifyList[i] < classifyList[j]:\n",
    "                updateBorderCluster(classifyList[j],classifyList[i])\n",
    "                for k in range(len(data)):\n",
    "                    if classifyList[k] == classifyList[j]:\n",
    "                        classifyList[k] = classifyList[i]\n",
    "            else:\n",
    "                updateBorderCluster(classifyList[i],classifyList[j])\n",
    "                for k in range(len(data)):\n",
    "                    if classifyList[k] == classifyList[i]:\n",
    "                        classifyList[k] = classifyList[j]\n",
    "\n",
    "for i in range(len(data)):\n",
    "    if borderList[i] != -1:\n",
    "        classifyList[i] = borderList[i]\n",
    "\n",
    "clustersList = list(set(classifyList))\n",
    "if -1 in clustersList:\n",
    "    clustersList.remove(-1)\n",
    "clusters = []\n",
    "for i in clustersList:\n",
    "    temp=[]\n",
    "    for j in range(len(data)):\n",
    "        if classifyList[j] == i:\n",
    "            temp.append(data[j])\n",
    "    clusters.append(temp)\n",
    "\n",
    "for i in range(len(clusters)):\n",
    "    cluster = np.array(clusters[i])\n",
    "    plt.scatter(cluster[:,0],cluster[:,1], marker='.')\n",
    "plt.show()"
   ]
  },
  {
   "cell_type": "markdown",
   "metadata": {},
   "source": [
    "Q9. Display the separation and cohesion values for the output clusters obtained in Q8. How are the clusters obtained in Q8 different from the ones obtained in Q7?"
   ]
  },
  {
   "cell_type": "code",
   "execution_count": 15,
   "metadata": {
    "collapsed": true
   },
   "outputs": [],
   "source": [
    "# your code goes here\n"
   ]
  }
 ],
 "metadata": {
  "kernelspec": {
   "display_name": "Python 3",
   "language": "python",
   "name": "python3"
  },
  "language_info": {
   "codemirror_mode": {
    "name": "ipython",
    "version": 3
   },
   "file_extension": ".py",
   "mimetype": "text/x-python",
   "name": "python",
   "nbconvert_exporter": "python",
   "pygments_lexer": "ipython3",
   "version": "3.6.1"
  }
 },
 "nbformat": 4,
 "nbformat_minor": 2
}
